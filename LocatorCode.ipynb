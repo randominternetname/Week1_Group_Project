{
 "cells": [
  {
   "cell_type": "code",
   "execution_count": 1,
   "metadata": {
    "colab": {},
    "colab_type": "code",
    "id": "5U9eygL2ZM2x"
   },
   "outputs": [],
   "source": [
    "# !pip freeze\n",
    "# would check the name & version of all libraries available for import"
   ]
  },
  {
   "cell_type": "code",
   "execution_count": 2,
   "metadata": {
    "colab": {
     "base_uri": "https://localhost:8080/",
     "height": 122
    },
    "colab_type": "code",
    "id": "15XelMZgDT2t",
    "outputId": "2f7137f8-4cf1-42b2-d7d3-689e308db953"
   },
   "outputs": [],
   "source": [
    "import pandas as pd\n",
    "from geopy import distance"
   ]
  },
  {
   "cell_type": "code",
   "execution_count": 3,
   "metadata": {
    "colab": {
     "base_uri": "https://localhost:8080/",
     "height": 629
    },
    "colab_type": "code",
    "id": "d3AsBkZsD-BV",
    "outputId": "1b5c7cdc-3197-4792-c76e-1600dabfb74f"
   },
   "outputs": [
    {
     "data": {
      "text/html": [
       "<div>\n",
       "<style scoped>\n",
       "    .dataframe tbody tr th:only-of-type {\n",
       "        vertical-align: middle;\n",
       "    }\n",
       "\n",
       "    .dataframe tbody tr th {\n",
       "        vertical-align: top;\n",
       "    }\n",
       "\n",
       "    .dataframe thead th {\n",
       "        text-align: right;\n",
       "    }\n",
       "</style>\n",
       "<table border=\"1\" class=\"dataframe\">\n",
       "  <thead>\n",
       "    <tr style=\"text-align: right;\">\n",
       "      <th></th>\n",
       "      <th>X</th>\n",
       "      <th>Y</th>\n",
       "      <th>OBJECTID</th>\n",
       "      <th>ID</th>\n",
       "      <th>NAME</th>\n",
       "      <th>ADDRESS</th>\n",
       "      <th>CITY</th>\n",
       "      <th>STATE</th>\n",
       "      <th>ZIP</th>\n",
       "      <th>ZIP4</th>\n",
       "      <th>...</th>\n",
       "      <th>VAL_DATE</th>\n",
       "      <th>WEBSITE</th>\n",
       "      <th>STATE_ID</th>\n",
       "      <th>ALT_NAME</th>\n",
       "      <th>ST_FIPS</th>\n",
       "      <th>OWNER</th>\n",
       "      <th>TTL_STAFF</th>\n",
       "      <th>BEDS</th>\n",
       "      <th>TRAUMA</th>\n",
       "      <th>HELIPAD</th>\n",
       "    </tr>\n",
       "  </thead>\n",
       "  <tbody>\n",
       "    <tr>\n",
       "      <th>5143</th>\n",
       "      <td>-73.960891</td>\n",
       "      <td>40.773703</td>\n",
       "      <td>7144</td>\n",
       "      <td>18110021</td>\n",
       "      <td>LENOX HILL HOSPITAL</td>\n",
       "      <td>100 E 77TH ST</td>\n",
       "      <td>NEW YORK</td>\n",
       "      <td>NY</td>\n",
       "      <td>10021</td>\n",
       "      <td>NOT AVAILABLE</td>\n",
       "      <td>...</td>\n",
       "      <td>2014-02-10T00:00:00.000Z</td>\n",
       "      <td>http://www.lenoxhillhospital.org</td>\n",
       "      <td>7002017H</td>\n",
       "      <td>NOT AVAILABLE</td>\n",
       "      <td>36</td>\n",
       "      <td>NON-PROFIT</td>\n",
       "      <td>-999</td>\n",
       "      <td>632</td>\n",
       "      <td>NOT AVAILABLE</td>\n",
       "      <td>N</td>\n",
       "    </tr>\n",
       "    <tr>\n",
       "      <th>2830</th>\n",
       "      <td>-73.835355</td>\n",
       "      <td>40.844184</td>\n",
       "      <td>3831</td>\n",
       "      <td>13710461</td>\n",
       "      <td>BURKE REHABILITATION CENTER</td>\n",
       "      <td>2826 WESTCHESTER AVE</td>\n",
       "      <td>BRONX</td>\n",
       "      <td>NY</td>\n",
       "      <td>10461</td>\n",
       "      <td>NOT AVAILABLE</td>\n",
       "      <td>...</td>\n",
       "      <td>2019-04-16T00:00:00.000Z</td>\n",
       "      <td>http://www.burke.org/</td>\n",
       "      <td>1046</td>\n",
       "      <td>NOT AVAILABLE</td>\n",
       "      <td>36</td>\n",
       "      <td>NON-PROFIT</td>\n",
       "      <td>-999</td>\n",
       "      <td>-999</td>\n",
       "      <td>NOT AVAILABLE</td>\n",
       "      <td>N</td>\n",
       "    </tr>\n",
       "    <tr>\n",
       "      <th>2391</th>\n",
       "      <td>-74.091820</td>\n",
       "      <td>40.603064</td>\n",
       "      <td>3392</td>\n",
       "      <td>120210304</td>\n",
       "      <td>STATEN ISLAND UNIV HOSP-CONCORD DIV</td>\n",
       "      <td>1050 TARGEE STREET</td>\n",
       "      <td>STATEN ISLAND</td>\n",
       "      <td>NY</td>\n",
       "      <td>10304</td>\n",
       "      <td>NOT AVAILABLE</td>\n",
       "      <td>...</td>\n",
       "      <td>2015-02-24T00:00:00.000Z</td>\n",
       "      <td>NOT AVAILABLE</td>\n",
       "      <td>7004005H</td>\n",
       "      <td>NOT AVAILABLE</td>\n",
       "      <td>36</td>\n",
       "      <td>GOVERNMENT - STATE</td>\n",
       "      <td>-999</td>\n",
       "      <td>-999</td>\n",
       "      <td>NOT AVAILABLE</td>\n",
       "      <td>N</td>\n",
       "    </tr>\n",
       "    <tr>\n",
       "      <th>2348</th>\n",
       "      <td>-73.998453</td>\n",
       "      <td>40.639479</td>\n",
       "      <td>3349</td>\n",
       "      <td>16811219</td>\n",
       "      <td>MAIMONIDES MEDICAL CENTER</td>\n",
       "      <td>4802 10TH AVE</td>\n",
       "      <td>BROOKLYN</td>\n",
       "      <td>NY</td>\n",
       "      <td>11219</td>\n",
       "      <td>NOT AVAILABLE</td>\n",
       "      <td>...</td>\n",
       "      <td>2014-02-10T00:00:00.000Z</td>\n",
       "      <td>http://www.maimonidesmed.org/</td>\n",
       "      <td>7001020H</td>\n",
       "      <td>NOT AVAILABLE</td>\n",
       "      <td>36</td>\n",
       "      <td>NON-PROFIT</td>\n",
       "      <td>-999</td>\n",
       "      <td>679</td>\n",
       "      <td>NOT AVAILABLE</td>\n",
       "      <td>N</td>\n",
       "    </tr>\n",
       "    <tr>\n",
       "      <th>5985</th>\n",
       "      <td>-73.912557</td>\n",
       "      <td>40.655269</td>\n",
       "      <td>405</td>\n",
       "      <td>16111212</td>\n",
       "      <td>BROOKDALE HOSPITAL MEDICAL CENTER</td>\n",
       "      <td>1 BROOKDALE PLAZA</td>\n",
       "      <td>BROOKLYN</td>\n",
       "      <td>NY</td>\n",
       "      <td>11212</td>\n",
       "      <td>NOT AVAILABLE</td>\n",
       "      <td>...</td>\n",
       "      <td>2014-02-10T00:00:00.000Z</td>\n",
       "      <td>http://www.brookdalehospital.org</td>\n",
       "      <td>7001002H</td>\n",
       "      <td>NOT AVAILABLE</td>\n",
       "      <td>36</td>\n",
       "      <td>NON-PROFIT</td>\n",
       "      <td>-999</td>\n",
       "      <td>530</td>\n",
       "      <td>LEVEL II</td>\n",
       "      <td>N</td>\n",
       "    </tr>\n",
       "    <tr>\n",
       "      <th>5139</th>\n",
       "      <td>-73.904057</td>\n",
       "      <td>40.831715</td>\n",
       "      <td>7140</td>\n",
       "      <td>15010456</td>\n",
       "      <td>BRONX-LEBANON HOSPITAL CENTER - FULTON DIVISION</td>\n",
       "      <td>1276 FULTON AVE</td>\n",
       "      <td>BRONX</td>\n",
       "      <td>NY</td>\n",
       "      <td>10456</td>\n",
       "      <td>NOT AVAILABLE</td>\n",
       "      <td>...</td>\n",
       "      <td>2014-02-10T00:00:00.000Z</td>\n",
       "      <td>http://www.bronxcare.org</td>\n",
       "      <td>7000001H</td>\n",
       "      <td>NOT AVAILABLE</td>\n",
       "      <td>36</td>\n",
       "      <td>NON-PROFIT</td>\n",
       "      <td>-999</td>\n",
       "      <td>164</td>\n",
       "      <td>NOT AVAILABLE</td>\n",
       "      <td>N</td>\n",
       "    </tr>\n",
       "  </tbody>\n",
       "</table>\n",
       "<p>6 rows × 34 columns</p>\n",
       "</div>"
      ],
      "text/plain": [
       "              X          Y  OBJECTID         ID  \\\n",
       "5143 -73.960891  40.773703      7144   18110021   \n",
       "2830 -73.835355  40.844184      3831   13710461   \n",
       "2391 -74.091820  40.603064      3392  120210304   \n",
       "2348 -73.998453  40.639479      3349   16811219   \n",
       "5985 -73.912557  40.655269       405   16111212   \n",
       "5139 -73.904057  40.831715      7140   15010456   \n",
       "\n",
       "                                                 NAME               ADDRESS  \\\n",
       "5143                              LENOX HILL HOSPITAL         100 E 77TH ST   \n",
       "2830                      BURKE REHABILITATION CENTER  2826 WESTCHESTER AVE   \n",
       "2391              STATEN ISLAND UNIV HOSP-CONCORD DIV    1050 TARGEE STREET   \n",
       "2348                        MAIMONIDES MEDICAL CENTER         4802 10TH AVE   \n",
       "5985                BROOKDALE HOSPITAL MEDICAL CENTER     1 BROOKDALE PLAZA   \n",
       "5139  BRONX-LEBANON HOSPITAL CENTER - FULTON DIVISION       1276 FULTON AVE   \n",
       "\n",
       "               CITY STATE    ZIP           ZIP4  ...  \\\n",
       "5143       NEW YORK    NY  10021  NOT AVAILABLE  ...   \n",
       "2830          BRONX    NY  10461  NOT AVAILABLE  ...   \n",
       "2391  STATEN ISLAND    NY  10304  NOT AVAILABLE  ...   \n",
       "2348       BROOKLYN    NY  11219  NOT AVAILABLE  ...   \n",
       "5985       BROOKLYN    NY  11212  NOT AVAILABLE  ...   \n",
       "5139          BRONX    NY  10456  NOT AVAILABLE  ...   \n",
       "\n",
       "                      VAL_DATE                           WEBSITE  STATE_ID  \\\n",
       "5143  2014-02-10T00:00:00.000Z  http://www.lenoxhillhospital.org  7002017H   \n",
       "2830  2019-04-16T00:00:00.000Z             http://www.burke.org/      1046   \n",
       "2391  2015-02-24T00:00:00.000Z                     NOT AVAILABLE  7004005H   \n",
       "2348  2014-02-10T00:00:00.000Z     http://www.maimonidesmed.org/  7001020H   \n",
       "5985  2014-02-10T00:00:00.000Z  http://www.brookdalehospital.org  7001002H   \n",
       "5139  2014-02-10T00:00:00.000Z          http://www.bronxcare.org  7000001H   \n",
       "\n",
       "           ALT_NAME ST_FIPS               OWNER TTL_STAFF  BEDS  \\\n",
       "5143  NOT AVAILABLE      36          NON-PROFIT      -999   632   \n",
       "2830  NOT AVAILABLE      36          NON-PROFIT      -999  -999   \n",
       "2391  NOT AVAILABLE      36  GOVERNMENT - STATE      -999  -999   \n",
       "2348  NOT AVAILABLE      36          NON-PROFIT      -999   679   \n",
       "5985  NOT AVAILABLE      36          NON-PROFIT      -999   530   \n",
       "5139  NOT AVAILABLE      36          NON-PROFIT      -999   164   \n",
       "\n",
       "             TRAUMA  HELIPAD  \n",
       "5143  NOT AVAILABLE        N  \n",
       "2830  NOT AVAILABLE        N  \n",
       "2391  NOT AVAILABLE        N  \n",
       "2348  NOT AVAILABLE        N  \n",
       "5985       LEVEL II        N  \n",
       "5139  NOT AVAILABLE        N  \n",
       "\n",
       "[6 rows x 34 columns]"
      ]
     },
     "execution_count": 3,
     "metadata": {},
     "output_type": "execute_result"
    }
   ],
   "source": [
    "df = pd.read_csv('Hospitals.csv')\n",
    "df_hosp = df.loc[(df.STATE=='NY')&((df.COUNTY=='NEW YORK')|(df.COUNTY== 'QUEENS')\n",
    "                |(df.COUNTY=='KINGS')|(df.COUNTY=='BRONX')|(df.COUNTY=='RICHMOND'))]\n",
    "df_hosp.sample(6)"
   ]
  },
  {
   "cell_type": "code",
   "execution_count": 4,
   "metadata": {},
   "outputs": [
    {
     "data": {
      "text/plain": [
       "(80, 34)"
      ]
     },
     "execution_count": 4,
     "metadata": {},
     "output_type": "execute_result"
    }
   ],
   "source": [
    "df_hosp.shape"
   ]
  },
  {
   "cell_type": "code",
   "execution_count": 5,
   "metadata": {
    "colab": {},
    "colab_type": "code",
    "id": "dDlUUbsjFd_F"
   },
   "outputs": [],
   "source": [
    "stat_df = pd.read_csv('MTAstations.csv')"
   ]
  },
  {
   "cell_type": "code",
   "execution_count": 6,
   "metadata": {
    "colab": {
     "base_uri": "https://localhost:8080/",
     "height": 119
    },
    "colab_type": "code",
    "id": "87JwRQ6mE5ki",
    "outputId": "c7e2ad84-bce1-4616-9c52-bef53795bd8c"
   },
   "outputs": [
    {
     "data": {
      "text/plain": [
       "468     POINT (-73.9812359981396 40.57728100006751)\n",
       "469    POINT (-74.00219709442206 40.75544635961596)\n",
       "470    POINT (-73.95836178682246 40.76880251014895)\n",
       "471    POINT (-73.95177090964917 40.77786104333163)\n",
       "472    POINT (-73.9470660219183 40.784236650177654)\n",
       "Name: the_geom, dtype: object"
      ]
     },
     "execution_count": 6,
     "metadata": {},
     "output_type": "execute_result"
    }
   ],
   "source": [
    "stat_df['the_geom'].tail()"
   ]
  },
  {
   "cell_type": "code",
   "execution_count": 7,
   "metadata": {
    "colab": {},
    "colab_type": "code",
    "id": "qDDsTFB9KN7_"
   },
   "outputs": [],
   "source": [
    "stat_coords_df = pd.DataFrame(stat_df.the_geom.str.split(' ',2).tolist(), columns = ['junk','long','lat'])"
   ]
  },
  {
   "cell_type": "code",
   "execution_count": 8,
   "metadata": {
    "colab": {
     "base_uri": "https://localhost:8080/",
     "height": 204
    },
    "colab_type": "code",
    "id": "k5__vmVcMy1I",
    "outputId": "bb150202-12d1-4604-8733-2ea36c0a2d9d"
   },
   "outputs": [
    {
     "data": {
      "text/html": [
       "<div>\n",
       "<style scoped>\n",
       "    .dataframe tbody tr th:only-of-type {\n",
       "        vertical-align: middle;\n",
       "    }\n",
       "\n",
       "    .dataframe tbody tr th {\n",
       "        vertical-align: top;\n",
       "    }\n",
       "\n",
       "    .dataframe thead th {\n",
       "        text-align: right;\n",
       "    }\n",
       "</style>\n",
       "<table border=\"1\" class=\"dataframe\">\n",
       "  <thead>\n",
       "    <tr style=\"text-align: right;\">\n",
       "      <th></th>\n",
       "      <th>junk</th>\n",
       "      <th>long</th>\n",
       "      <th>lat</th>\n",
       "    </tr>\n",
       "  </thead>\n",
       "  <tbody>\n",
       "    <tr>\n",
       "      <th>468</th>\n",
       "      <td>POINT</td>\n",
       "      <td>(-73.9812359981396</td>\n",
       "      <td>40.57728100006751)</td>\n",
       "    </tr>\n",
       "    <tr>\n",
       "      <th>469</th>\n",
       "      <td>POINT</td>\n",
       "      <td>(-74.00219709442206</td>\n",
       "      <td>40.75544635961596)</td>\n",
       "    </tr>\n",
       "    <tr>\n",
       "      <th>470</th>\n",
       "      <td>POINT</td>\n",
       "      <td>(-73.95836178682246</td>\n",
       "      <td>40.76880251014895)</td>\n",
       "    </tr>\n",
       "    <tr>\n",
       "      <th>471</th>\n",
       "      <td>POINT</td>\n",
       "      <td>(-73.95177090964917</td>\n",
       "      <td>40.77786104333163)</td>\n",
       "    </tr>\n",
       "    <tr>\n",
       "      <th>472</th>\n",
       "      <td>POINT</td>\n",
       "      <td>(-73.9470660219183</td>\n",
       "      <td>40.784236650177654)</td>\n",
       "    </tr>\n",
       "  </tbody>\n",
       "</table>\n",
       "</div>"
      ],
      "text/plain": [
       "      junk                 long                  lat\n",
       "468  POINT   (-73.9812359981396   40.57728100006751)\n",
       "469  POINT  (-74.00219709442206   40.75544635961596)\n",
       "470  POINT  (-73.95836178682246   40.76880251014895)\n",
       "471  POINT  (-73.95177090964917   40.77786104333163)\n",
       "472  POINT   (-73.9470660219183  40.784236650177654)"
      ]
     },
     "execution_count": 8,
     "metadata": {},
     "output_type": "execute_result"
    }
   ],
   "source": [
    "stat_coords_df.tail()"
   ]
  },
  {
   "cell_type": "code",
   "execution_count": 9,
   "metadata": {
    "colab": {
     "base_uri": "https://localhost:8080/",
     "height": 142
    },
    "colab_type": "code",
    "id": "XmkmNcCtfUas",
    "outputId": "e01af8c8-48f4-4456-c07b-780d0be7c8f1"
   },
   "outputs": [
    {
     "data": {
      "text/html": [
       "<div>\n",
       "<style scoped>\n",
       "    .dataframe tbody tr th:only-of-type {\n",
       "        vertical-align: middle;\n",
       "    }\n",
       "\n",
       "    .dataframe tbody tr th {\n",
       "        vertical-align: top;\n",
       "    }\n",
       "\n",
       "    .dataframe thead th {\n",
       "        text-align: right;\n",
       "    }\n",
       "</style>\n",
       "<table border=\"1\" class=\"dataframe\">\n",
       "  <thead>\n",
       "    <tr style=\"text-align: right;\">\n",
       "      <th></th>\n",
       "      <th>URL</th>\n",
       "      <th>OBJECTID</th>\n",
       "      <th>NAME</th>\n",
       "      <th>the_geom</th>\n",
       "      <th>LINE</th>\n",
       "      <th>NOTES</th>\n",
       "      <th>long</th>\n",
       "      <th>lat</th>\n",
       "    </tr>\n",
       "  </thead>\n",
       "  <tbody>\n",
       "    <tr>\n",
       "      <th>470</th>\n",
       "      <td>http://web.mta.info/nyct/service/</td>\n",
       "      <td>641</td>\n",
       "      <td>72nd St</td>\n",
       "      <td>POINT (-73.95836178682246 40.76880251014895)</td>\n",
       "      <td>Q</td>\n",
       "      <td>Q-all times</td>\n",
       "      <td>-73.958362</td>\n",
       "      <td>40.768803</td>\n",
       "    </tr>\n",
       "    <tr>\n",
       "      <th>471</th>\n",
       "      <td>http://web.mta.info/nyct/service/</td>\n",
       "      <td>642</td>\n",
       "      <td>86th St</td>\n",
       "      <td>POINT (-73.95177090964917 40.77786104333163)</td>\n",
       "      <td>Q</td>\n",
       "      <td>Q-all times</td>\n",
       "      <td>-73.951771</td>\n",
       "      <td>40.777861</td>\n",
       "    </tr>\n",
       "    <tr>\n",
       "      <th>472</th>\n",
       "      <td>http://web.mta.info/nyct/service/</td>\n",
       "      <td>643</td>\n",
       "      <td>96th St</td>\n",
       "      <td>POINT (-73.9470660219183 40.784236650177654)</td>\n",
       "      <td>Q</td>\n",
       "      <td>Q-all times</td>\n",
       "      <td>-73.947066</td>\n",
       "      <td>40.784237</td>\n",
       "    </tr>\n",
       "  </tbody>\n",
       "</table>\n",
       "</div>"
      ],
      "text/plain": [
       "                                   URL  OBJECTID     NAME  \\\n",
       "470  http://web.mta.info/nyct/service/       641  72nd St   \n",
       "471  http://web.mta.info/nyct/service/       642  86th St   \n",
       "472  http://web.mta.info/nyct/service/       643  96th St   \n",
       "\n",
       "                                         the_geom LINE        NOTES  \\\n",
       "470  POINT (-73.95836178682246 40.76880251014895)    Q  Q-all times   \n",
       "471  POINT (-73.95177090964917 40.77786104333163)    Q  Q-all times   \n",
       "472  POINT (-73.9470660219183 40.784236650177654)    Q  Q-all times   \n",
       "\n",
       "          long        lat  \n",
       "470 -73.958362  40.768803  \n",
       "471 -73.951771  40.777861  \n",
       "472 -73.947066  40.784237  "
      ]
     },
     "execution_count": 9,
     "metadata": {},
     "output_type": "execute_result"
    }
   ],
   "source": [
    "stat_df['long'] = pd.Series(stat_coords_df.long.str.strip('(')).astype(float)\n",
    "stat_df['lat'] = pd.Series(stat_coords_df.lat.str.strip(')')).astype(float)\n",
    "stat_df.tail(3)"
   ]
  },
  {
   "cell_type": "code",
   "execution_count": 10,
   "metadata": {
    "colab": {
     "base_uri": "https://localhost:8080/",
     "height": 289
    },
    "colab_type": "code",
    "id": "baYtL-jTgzh_",
    "outputId": "bc238967-6a61-4725-e33b-b21cc0800987"
   },
   "outputs": [
    {
     "data": {
      "text/html": [
       "<div>\n",
       "<style scoped>\n",
       "    .dataframe tbody tr th:only-of-type {\n",
       "        vertical-align: middle;\n",
       "    }\n",
       "\n",
       "    .dataframe tbody tr th {\n",
       "        vertical-align: top;\n",
       "    }\n",
       "\n",
       "    .dataframe thead th {\n",
       "        text-align: right;\n",
       "    }\n",
       "</style>\n",
       "<table border=\"1\" class=\"dataframe\">\n",
       "  <thead>\n",
       "    <tr style=\"text-align: right;\">\n",
       "      <th></th>\n",
       "      <th>URL</th>\n",
       "      <th>OBJECTID</th>\n",
       "      <th>NAME</th>\n",
       "      <th>the_geom</th>\n",
       "      <th>LINE</th>\n",
       "      <th>NOTES</th>\n",
       "      <th>long</th>\n",
       "      <th>lat</th>\n",
       "    </tr>\n",
       "  </thead>\n",
       "  <tbody>\n",
       "    <tr>\n",
       "      <th>0</th>\n",
       "      <td>http://web.mta.info/nyct/service/</td>\n",
       "      <td>1</td>\n",
       "      <td>Astor Pl</td>\n",
       "      <td>POINT (-73.99106999861966 40.73005400028978)</td>\n",
       "      <td>4-6-6 Express</td>\n",
       "      <td>4 nights, 6-all times, 6 Express-weekdays AM s...</td>\n",
       "      <td>-73.991070</td>\n",
       "      <td>40.730054</td>\n",
       "    </tr>\n",
       "    <tr>\n",
       "      <th>1</th>\n",
       "      <td>http://web.mta.info/nyct/service/</td>\n",
       "      <td>2</td>\n",
       "      <td>Canal St</td>\n",
       "      <td>POINT (-74.00019299927328 40.71880300107709)</td>\n",
       "      <td>4-6-6 Express</td>\n",
       "      <td>4 nights, 6-all times, 6 Express-weekdays AM s...</td>\n",
       "      <td>-74.000193</td>\n",
       "      <td>40.718803</td>\n",
       "    </tr>\n",
       "    <tr>\n",
       "      <th>2</th>\n",
       "      <td>http://web.mta.info/nyct/service/</td>\n",
       "      <td>3</td>\n",
       "      <td>50th St</td>\n",
       "      <td>POINT (-73.98384899986625 40.76172799961419)</td>\n",
       "      <td>1-2</td>\n",
       "      <td>1-all times, 2-nights</td>\n",
       "      <td>-73.983849</td>\n",
       "      <td>40.761728</td>\n",
       "    </tr>\n",
       "    <tr>\n",
       "      <th>3</th>\n",
       "      <td>http://web.mta.info/nyct/service/</td>\n",
       "      <td>4</td>\n",
       "      <td>Bergen St</td>\n",
       "      <td>POINT (-73.97499915116808 40.68086213682956)</td>\n",
       "      <td>2-3-4</td>\n",
       "      <td>4-nights, 3-all other times, 2-all times</td>\n",
       "      <td>-73.974999</td>\n",
       "      <td>40.680862</td>\n",
       "    </tr>\n",
       "    <tr>\n",
       "      <th>4</th>\n",
       "      <td>http://web.mta.info/nyct/service/</td>\n",
       "      <td>5</td>\n",
       "      <td>Pennsylvania Ave</td>\n",
       "      <td>POINT (-73.89488591154061 40.66471445143568)</td>\n",
       "      <td>3-4</td>\n",
       "      <td>4-nights, 3-all other times</td>\n",
       "      <td>-73.894886</td>\n",
       "      <td>40.664714</td>\n",
       "    </tr>\n",
       "  </tbody>\n",
       "</table>\n",
       "</div>"
      ],
      "text/plain": [
       "                                 URL  OBJECTID              NAME  \\\n",
       "0  http://web.mta.info/nyct/service/         1          Astor Pl   \n",
       "1  http://web.mta.info/nyct/service/         2          Canal St   \n",
       "2  http://web.mta.info/nyct/service/         3           50th St   \n",
       "3  http://web.mta.info/nyct/service/         4         Bergen St   \n",
       "4  http://web.mta.info/nyct/service/         5  Pennsylvania Ave   \n",
       "\n",
       "                                       the_geom           LINE  \\\n",
       "0  POINT (-73.99106999861966 40.73005400028978)  4-6-6 Express   \n",
       "1  POINT (-74.00019299927328 40.71880300107709)  4-6-6 Express   \n",
       "2  POINT (-73.98384899986625 40.76172799961419)            1-2   \n",
       "3  POINT (-73.97499915116808 40.68086213682956)          2-3-4   \n",
       "4  POINT (-73.89488591154061 40.66471445143568)            3-4   \n",
       "\n",
       "                                               NOTES       long        lat  \n",
       "0  4 nights, 6-all times, 6 Express-weekdays AM s... -73.991070  40.730054  \n",
       "1  4 nights, 6-all times, 6 Express-weekdays AM s... -74.000193  40.718803  \n",
       "2                              1-all times, 2-nights -73.983849  40.761728  \n",
       "3           4-nights, 3-all other times, 2-all times -73.974999  40.680862  \n",
       "4                        4-nights, 3-all other times -73.894886  40.664714  "
      ]
     },
     "execution_count": 10,
     "metadata": {},
     "output_type": "execute_result"
    }
   ],
   "source": [
    "stat_df.head()"
   ]
  },
  {
   "cell_type": "code",
   "execution_count": 11,
   "metadata": {
    "colab": {
     "base_uri": "https://localhost:8080/",
     "height": 119
    },
    "colab_type": "code",
    "id": "Q-XvlHKIkrxj",
    "outputId": "8fdb6eb0-69e9-44f8-c40b-6d1345dcd2d3"
   },
   "outputs": [
    {
     "data": {
      "text/plain": [
       "0    (40.73005400028978, -73.99106999861966)\n",
       "1    (40.71880300107709, -74.00019299927328)\n",
       "2    (40.76172799961419, -73.98384899986625)\n",
       "3    (40.68086213682956, -73.97499915116808)\n",
       "4    (40.66471445143568, -73.89488591154061)\n",
       "dtype: object"
      ]
     },
     "execution_count": 11,
     "metadata": {},
     "output_type": "execute_result"
    }
   ],
   "source": [
    "stat_loc = pd.Series(zip(stat_df.lat, stat_df.long))\n",
    "stat_loc.head()"
   ]
  },
  {
   "cell_type": "code",
   "execution_count": 12,
   "metadata": {
    "colab": {
     "base_uri": "https://localhost:8080/",
     "height": 204
    },
    "colab_type": "code",
    "id": "OUPef2fGlO3H",
    "outputId": "29e9bff9-202e-4599-8520-3a96bb7037fe"
   },
   "outputs": [
    {
     "data": {
      "text/html": [
       "<div>\n",
       "<style scoped>\n",
       "    .dataframe tbody tr th:only-of-type {\n",
       "        vertical-align: middle;\n",
       "    }\n",
       "\n",
       "    .dataframe tbody tr th {\n",
       "        vertical-align: top;\n",
       "    }\n",
       "\n",
       "    .dataframe thead th {\n",
       "        text-align: right;\n",
       "    }\n",
       "</style>\n",
       "<table border=\"1\" class=\"dataframe\">\n",
       "  <thead>\n",
       "    <tr style=\"text-align: right;\">\n",
       "      <th></th>\n",
       "      <th>NAME</th>\n",
       "    </tr>\n",
       "  </thead>\n",
       "  <tbody>\n",
       "    <tr>\n",
       "      <th>0</th>\n",
       "      <td>Astor Pl</td>\n",
       "    </tr>\n",
       "    <tr>\n",
       "      <th>1</th>\n",
       "      <td>Canal St</td>\n",
       "    </tr>\n",
       "    <tr>\n",
       "      <th>2</th>\n",
       "      <td>50th St</td>\n",
       "    </tr>\n",
       "    <tr>\n",
       "      <th>3</th>\n",
       "      <td>Bergen St</td>\n",
       "    </tr>\n",
       "    <tr>\n",
       "      <th>4</th>\n",
       "      <td>Pennsylvania Ave</td>\n",
       "    </tr>\n",
       "  </tbody>\n",
       "</table>\n",
       "</div>"
      ],
      "text/plain": [
       "               NAME\n",
       "0          Astor Pl\n",
       "1          Canal St\n",
       "2           50th St\n",
       "3         Bergen St\n",
       "4  Pennsylvania Ave"
      ]
     },
     "execution_count": 12,
     "metadata": {},
     "output_type": "execute_result"
    }
   ],
   "source": [
    "stat_loc_df = pd.DataFrame(stat_df['NAME'])\n",
    "stat_loc_df.head()"
   ]
  },
  {
   "cell_type": "code",
   "execution_count": 13,
   "metadata": {
    "colab": {
     "base_uri": "https://localhost:8080/",
     "height": 204
    },
    "colab_type": "code",
    "id": "ayFSCyeImcvp",
    "outputId": "39746ed6-5a03-488f-96af-a011648cb28f"
   },
   "outputs": [
    {
     "data": {
      "text/html": [
       "<div>\n",
       "<style scoped>\n",
       "    .dataframe tbody tr th:only-of-type {\n",
       "        vertical-align: middle;\n",
       "    }\n",
       "\n",
       "    .dataframe tbody tr th {\n",
       "        vertical-align: top;\n",
       "    }\n",
       "\n",
       "    .dataframe thead th {\n",
       "        text-align: right;\n",
       "    }\n",
       "</style>\n",
       "<table border=\"1\" class=\"dataframe\">\n",
       "  <thead>\n",
       "    <tr style=\"text-align: right;\">\n",
       "      <th></th>\n",
       "      <th>NAME</th>\n",
       "      <th>lines</th>\n",
       "      <th>coords</th>\n",
       "    </tr>\n",
       "  </thead>\n",
       "  <tbody>\n",
       "    <tr>\n",
       "      <th>0</th>\n",
       "      <td>Astor Pl</td>\n",
       "      <td>4-6-6 Express</td>\n",
       "      <td>(40.73005400028978, -73.99106999861966)</td>\n",
       "    </tr>\n",
       "    <tr>\n",
       "      <th>1</th>\n",
       "      <td>Canal St</td>\n",
       "      <td>4-6-6 Express</td>\n",
       "      <td>(40.71880300107709, -74.00019299927328)</td>\n",
       "    </tr>\n",
       "    <tr>\n",
       "      <th>2</th>\n",
       "      <td>50th St</td>\n",
       "      <td>1-2</td>\n",
       "      <td>(40.76172799961419, -73.98384899986625)</td>\n",
       "    </tr>\n",
       "    <tr>\n",
       "      <th>3</th>\n",
       "      <td>Bergen St</td>\n",
       "      <td>2-3-4</td>\n",
       "      <td>(40.68086213682956, -73.97499915116808)</td>\n",
       "    </tr>\n",
       "    <tr>\n",
       "      <th>4</th>\n",
       "      <td>Pennsylvania Ave</td>\n",
       "      <td>3-4</td>\n",
       "      <td>(40.66471445143568, -73.89488591154061)</td>\n",
       "    </tr>\n",
       "  </tbody>\n",
       "</table>\n",
       "</div>"
      ],
      "text/plain": [
       "               NAME          lines                                   coords\n",
       "0          Astor Pl  4-6-6 Express  (40.73005400028978, -73.99106999861966)\n",
       "1          Canal St  4-6-6 Express  (40.71880300107709, -74.00019299927328)\n",
       "2           50th St            1-2  (40.76172799961419, -73.98384899986625)\n",
       "3         Bergen St          2-3-4  (40.68086213682956, -73.97499915116808)\n",
       "4  Pennsylvania Ave            3-4  (40.66471445143568, -73.89488591154061)"
      ]
     },
     "execution_count": 13,
     "metadata": {},
     "output_type": "execute_result"
    }
   ],
   "source": [
    "stat_loc_df['lines'] = stat_df['LINE']\n",
    "stat_loc_df['coords'] = stat_loc\n",
    "stat_loc_df.head()"
   ]
  },
  {
   "cell_type": "markdown",
   "metadata": {
    "colab_type": "text",
    "id": "yaTpyBq1m5Zv"
   },
   "source": [
    "Right. Haven't been doing any kind of job of commenting thus far. I have so far pulled in both the hospital and the MTA station location data and have cleaned up the latter to form ordered pairs suitable for geopy. I need to do that for the hospital data as well, then get to work writing a routine for finding the shortest distance from a station to one of the hospitals on the list.\n",
    "\n",
    "We can either pick out the additional hospitals from Kings and Queens counties and whatever county names the Bronx and Staten Island have, or we can confine the station data to just Manhattan Island by finding some code somewhere that identifies points within a given polygon. PAG"
   ]
  },
  {
   "cell_type": "markdown",
   "metadata": {
    "colab_type": "text",
    "id": "ktq9BRhZp-g8"
   },
   "source": [
    "First, let's knock out the closed hospitals."
   ]
  },
  {
   "cell_type": "code",
   "execution_count": 14,
   "metadata": {
    "colab": {
     "base_uri": "https://localhost:8080/",
     "height": 34
    },
    "colab_type": "code",
    "id": "KfBoSGdknui9",
    "outputId": "6d8efc7d-0191-427b-a7ff-945168d02eb4"
   },
   "outputs": [
    {
     "data": {
      "text/plain": [
       "False"
      ]
     },
     "execution_count": 14,
     "metadata": {},
     "output_type": "execute_result"
    }
   ],
   "source": [
    "still_open = (df_hosp.STATUS == 'OPEN')\n",
    "still_open[5995] # The Addiction Institute of New York, which I noticed was \n",
    "                 # closed in my sample"
   ]
  },
  {
   "cell_type": "code",
   "execution_count": 15,
   "metadata": {
    "colab": {
     "base_uri": "https://localhost:8080/",
     "height": 51
    },
    "colab_type": "code",
    "id": "mz5y_VJypN7z",
    "outputId": "2ba6b981-72b7-469e-e2cb-fb2bbfefe5ff"
   },
   "outputs": [
    {
     "name": "stdout",
     "output_type": "stream",
     "text": [
      "(80, 34)\n"
     ]
    },
    {
     "data": {
      "text/plain": [
       "(72, 34)"
      ]
     },
     "execution_count": 15,
     "metadata": {},
     "output_type": "execute_result"
    }
   ],
   "source": [
    "df_hosp_open = df_hosp[still_open]\n",
    "print(df_hosp.shape)\n",
    "df_hosp_open.shape"
   ]
  },
  {
   "cell_type": "code",
   "execution_count": 16,
   "metadata": {
    "colab": {
     "base_uri": "https://localhost:8080/",
     "height": 318
    },
    "colab_type": "code",
    "id": "IJ6-sWPAqILJ",
    "outputId": "5d7d3a81-2209-486e-f64a-8ffd61d46bab"
   },
   "outputs": [
    {
     "data": {
      "text/html": [
       "<div>\n",
       "<style scoped>\n",
       "    .dataframe tbody tr th:only-of-type {\n",
       "        vertical-align: middle;\n",
       "    }\n",
       "\n",
       "    .dataframe tbody tr th {\n",
       "        vertical-align: top;\n",
       "    }\n",
       "\n",
       "    .dataframe thead th {\n",
       "        text-align: right;\n",
       "    }\n",
       "</style>\n",
       "<table border=\"1\" class=\"dataframe\">\n",
       "  <thead>\n",
       "    <tr style=\"text-align: right;\">\n",
       "      <th></th>\n",
       "      <th>X</th>\n",
       "      <th>Y</th>\n",
       "      <th>OBJECTID</th>\n",
       "      <th>ID</th>\n",
       "      <th>NAME</th>\n",
       "      <th>ADDRESS</th>\n",
       "      <th>CITY</th>\n",
       "      <th>STATE</th>\n",
       "      <th>ZIP</th>\n",
       "      <th>ZIP4</th>\n",
       "      <th>...</th>\n",
       "      <th>VAL_DATE</th>\n",
       "      <th>WEBSITE</th>\n",
       "      <th>STATE_ID</th>\n",
       "      <th>ALT_NAME</th>\n",
       "      <th>ST_FIPS</th>\n",
       "      <th>OWNER</th>\n",
       "      <th>TTL_STAFF</th>\n",
       "      <th>BEDS</th>\n",
       "      <th>TRAUMA</th>\n",
       "      <th>HELIPAD</th>\n",
       "    </tr>\n",
       "  </thead>\n",
       "  <tbody>\n",
       "    <tr>\n",
       "      <th>1153</th>\n",
       "      <td>-73.953021</td>\n",
       "      <td>40.769717</td>\n",
       "      <td>4154</td>\n",
       "      <td>18910021</td>\n",
       "      <td>GRACIE SQUARE HOSPITAL</td>\n",
       "      <td>420 E 76TH ST, 2ND, 3RD, 4TH &amp; 5TH FLOORS</td>\n",
       "      <td>NEW YORK</td>\n",
       "      <td>NY</td>\n",
       "      <td>10021</td>\n",
       "      <td>NOT AVAILABLE</td>\n",
       "      <td>...</td>\n",
       "      <td>2014-02-10T00:00:00.000Z</td>\n",
       "      <td>http://www.nygsh.org</td>\n",
       "      <td>1458</td>\n",
       "      <td>NOT AVAILABLE</td>\n",
       "      <td>36</td>\n",
       "      <td>NON-PROFIT</td>\n",
       "      <td>-999</td>\n",
       "      <td>157</td>\n",
       "      <td>NOT AVAILABLE</td>\n",
       "      <td>N</td>\n",
       "    </tr>\n",
       "    <tr>\n",
       "      <th>2346</th>\n",
       "      <td>-73.843942</td>\n",
       "      <td>40.847990</td>\n",
       "      <td>3347</td>\n",
       "      <td>15510461</td>\n",
       "      <td>CALVARY HOSPITAL</td>\n",
       "      <td>1740 EASTCHESTER RD</td>\n",
       "      <td>BRONX</td>\n",
       "      <td>NY</td>\n",
       "      <td>10461</td>\n",
       "      <td>NOT AVAILABLE</td>\n",
       "      <td>...</td>\n",
       "      <td>2014-02-10T00:00:00.000Z</td>\n",
       "      <td>http://www.calvaryhospital.org</td>\n",
       "      <td>7000011H</td>\n",
       "      <td>NOT AVAILABLE</td>\n",
       "      <td>36</td>\n",
       "      <td>NON-PROFIT</td>\n",
       "      <td>-999</td>\n",
       "      <td>225</td>\n",
       "      <td>NOT AVAILABLE</td>\n",
       "      <td>N</td>\n",
       "    </tr>\n",
       "  </tbody>\n",
       "</table>\n",
       "<p>2 rows × 34 columns</p>\n",
       "</div>"
      ],
      "text/plain": [
       "              X          Y  OBJECTID        ID                    NAME  \\\n",
       "1153 -73.953021  40.769717      4154  18910021  GRACIE SQUARE HOSPITAL   \n",
       "2346 -73.843942  40.847990      3347  15510461        CALVARY HOSPITAL   \n",
       "\n",
       "                                        ADDRESS      CITY STATE    ZIP  \\\n",
       "1153  420 E 76TH ST, 2ND, 3RD, 4TH & 5TH FLOORS  NEW YORK    NY  10021   \n",
       "2346                        1740 EASTCHESTER RD     BRONX    NY  10461   \n",
       "\n",
       "               ZIP4  ...                  VAL_DATE  \\\n",
       "1153  NOT AVAILABLE  ...  2014-02-10T00:00:00.000Z   \n",
       "2346  NOT AVAILABLE  ...  2014-02-10T00:00:00.000Z   \n",
       "\n",
       "                             WEBSITE  STATE_ID       ALT_NAME ST_FIPS  \\\n",
       "1153            http://www.nygsh.org      1458  NOT AVAILABLE      36   \n",
       "2346  http://www.calvaryhospital.org  7000011H  NOT AVAILABLE      36   \n",
       "\n",
       "           OWNER TTL_STAFF  BEDS         TRAUMA  HELIPAD  \n",
       "1153  NON-PROFIT      -999   157  NOT AVAILABLE        N  \n",
       "2346  NON-PROFIT      -999   225  NOT AVAILABLE        N  \n",
       "\n",
       "[2 rows x 34 columns]"
      ]
     },
     "execution_count": 16,
     "metadata": {},
     "output_type": "execute_result"
    }
   ],
   "source": [
    "df_hosp_open.head(2)"
   ]
  },
  {
   "cell_type": "markdown",
   "metadata": {
    "colab_type": "text",
    "id": "NMhDK82rqwSd"
   },
   "source": [
    "Now we'll zip up the coordinates for the hospital locations just like we did for station locations. The only problem is the indexing."
   ]
  },
  {
   "cell_type": "code",
   "execution_count": 17,
   "metadata": {
    "colab": {
     "base_uri": "https://localhost:8080/",
     "height": 119
    },
    "colab_type": "code",
    "id": "HoJSk7CYqTAt",
    "outputId": "d8d7a649-b88c-43f6-f433-26fb83adad2b"
   },
   "outputs": [
    {
     "data": {
      "text/plain": [
       "1153     (40.7697165, -73.95302135)\n",
       "2346    (40.84798989, -73.84394163)\n",
       "2348    (40.63947888, -73.99845263)\n",
       "2350    (40.76492338, -73.95231485)\n",
       "2351    (40.78492694, -73.94453023)\n",
       "dtype: object"
      ]
     },
     "execution_count": 17,
     "metadata": {},
     "output_type": "execute_result"
    }
   ],
   "source": [
    "hosp_loc = pd.Series(zip(df_hosp_open.Y, df_hosp_open.X), index = df_hosp_open.index)\n",
    "hosp_loc.head()"
   ]
  },
  {
   "cell_type": "code",
   "execution_count": 18,
   "metadata": {
    "colab": {},
    "colab_type": "code",
    "id": "Wmsk8vN6qtbd"
   },
   "outputs": [],
   "source": [
    "hosp_loc_df = pd.DataFrame(df_hosp_open['NAME'])\n",
    "hosp_loc_df['address'] = df_hosp_open['ADDRESS']\n",
    "hosp_loc_df['coords'] = hosp_loc"
   ]
  },
  {
   "cell_type": "code",
   "execution_count": 19,
   "metadata": {
    "colab": {
     "base_uri": "https://localhost:8080/",
     "height": 204
    },
    "colab_type": "code",
    "id": "haPsDEGerQIk",
    "outputId": "cc69c93f-a46a-4439-9f62-a5567b24dc45"
   },
   "outputs": [
    {
     "data": {
      "text/html": [
       "<div>\n",
       "<style scoped>\n",
       "    .dataframe tbody tr th:only-of-type {\n",
       "        vertical-align: middle;\n",
       "    }\n",
       "\n",
       "    .dataframe tbody tr th {\n",
       "        vertical-align: top;\n",
       "    }\n",
       "\n",
       "    .dataframe thead th {\n",
       "        text-align: right;\n",
       "    }\n",
       "</style>\n",
       "<table border=\"1\" class=\"dataframe\">\n",
       "  <thead>\n",
       "    <tr style=\"text-align: right;\">\n",
       "      <th></th>\n",
       "      <th>NAME</th>\n",
       "      <th>address</th>\n",
       "      <th>coords</th>\n",
       "    </tr>\n",
       "  </thead>\n",
       "  <tbody>\n",
       "    <tr>\n",
       "      <th>1153</th>\n",
       "      <td>GRACIE SQUARE HOSPITAL</td>\n",
       "      <td>420 E 76TH ST, 2ND, 3RD, 4TH &amp; 5TH FLOORS</td>\n",
       "      <td>(40.7697165, -73.95302135)</td>\n",
       "    </tr>\n",
       "    <tr>\n",
       "      <th>2346</th>\n",
       "      <td>CALVARY HOSPITAL</td>\n",
       "      <td>1740 EASTCHESTER RD</td>\n",
       "      <td>(40.84798989, -73.84394163)</td>\n",
       "    </tr>\n",
       "    <tr>\n",
       "      <th>2348</th>\n",
       "      <td>MAIMONIDES MEDICAL CENTER</td>\n",
       "      <td>4802 10TH AVE</td>\n",
       "      <td>(40.63947888, -73.99845263)</td>\n",
       "    </tr>\n",
       "    <tr>\n",
       "      <th>2350</th>\n",
       "      <td>HOSPITAL FOR SPECIAL SURGERY</td>\n",
       "      <td>535 EAST 70TH ST</td>\n",
       "      <td>(40.76492338, -73.95231485)</td>\n",
       "    </tr>\n",
       "    <tr>\n",
       "      <th>2351</th>\n",
       "      <td>METROPOLITAN HOSPITAL CENTER</td>\n",
       "      <td>1901 1ST AVE</td>\n",
       "      <td>(40.78492694, -73.94453023)</td>\n",
       "    </tr>\n",
       "  </tbody>\n",
       "</table>\n",
       "</div>"
      ],
      "text/plain": [
       "                              NAME                                    address  \\\n",
       "1153        GRACIE SQUARE HOSPITAL  420 E 76TH ST, 2ND, 3RD, 4TH & 5TH FLOORS   \n",
       "2346              CALVARY HOSPITAL                        1740 EASTCHESTER RD   \n",
       "2348     MAIMONIDES MEDICAL CENTER                              4802 10TH AVE   \n",
       "2350  HOSPITAL FOR SPECIAL SURGERY                           535 EAST 70TH ST   \n",
       "2351  METROPOLITAN HOSPITAL CENTER                               1901 1ST AVE   \n",
       "\n",
       "                           coords  \n",
       "1153   (40.7697165, -73.95302135)  \n",
       "2346  (40.84798989, -73.84394163)  \n",
       "2348  (40.63947888, -73.99845263)  \n",
       "2350  (40.76492338, -73.95231485)  \n",
       "2351  (40.78492694, -73.94453023)  "
      ]
     },
     "execution_count": 19,
     "metadata": {},
     "output_type": "execute_result"
    }
   ],
   "source": [
    "hosp_loc_df.head()"
   ]
  },
  {
   "cell_type": "code",
   "execution_count": 20,
   "metadata": {
    "colab": {
     "base_uri": "https://localhost:8080/",
     "height": 187
    },
    "colab_type": "code",
    "id": "jmwynUwX0wuS",
    "outputId": "b12c9825-9670-469b-83b3-2ef648e4a05f"
   },
   "outputs": [
    {
     "name": "stdout",
     "output_type": "stream",
     "text": [
      "<class 'pandas.core.frame.DataFrame'>\n",
      "Int64Index: 72 entries, 1153 to 6396\n",
      "Data columns (total 3 columns):\n",
      " #   Column   Non-Null Count  Dtype \n",
      "---  ------   --------------  ----- \n",
      " 0   NAME     72 non-null     object\n",
      " 1   address  72 non-null     object\n",
      " 2   coords   72 non-null     object\n",
      "dtypes: object(3)\n",
      "memory usage: 2.2+ KB\n"
     ]
    }
   ],
   "source": [
    "hosp_loc_df.info()"
   ]
  },
  {
   "cell_type": "markdown",
   "metadata": {
    "colab_type": "text",
    "id": "_58qpEBjsMY-"
   },
   "source": [
    "Now the task is basically to create columns in the station dataframe with the name and distance of the closest hospital to each station. Iterate over each station, find the distance to each hospital, save the name and distance of the closest hospital in the station dataframe."
   ]
  },
  {
   "cell_type": "code",
   "execution_count": 21,
   "metadata": {
    "colab": {
     "base_uri": "https://localhost:8080/",
     "height": 221
    },
    "colab_type": "code",
    "id": "j1wuFdFXcTsO",
    "outputId": "878545b0-b721-4b7f-83d6-88e3c70c79d6"
   },
   "outputs": [
    {
     "data": {
      "text/plain": [
       "0      (40.73005400028978, -73.99106999861966)\n",
       "1      (40.71880300107709, -74.00019299927328)\n",
       "2      (40.76172799961419, -73.98384899986625)\n",
       "3      (40.68086213682956, -73.97499915116808)\n",
       "4      (40.66471445143568, -73.89488591154061)\n",
       "                        ...                   \n",
       "468     (40.57728100006751, -73.9812359981396)\n",
       "469    (40.75544635961596, -74.00219709442206)\n",
       "470    (40.76880251014895, -73.95836178682246)\n",
       "471    (40.77786104333163, -73.95177090964917)\n",
       "472    (40.784236650177654, -73.9470660219183)\n",
       "Name: coords, Length: 473, dtype: object"
      ]
     },
     "execution_count": 21,
     "metadata": {},
     "output_type": "execute_result"
    }
   ],
   "source": [
    "# first let's see if we can get a single freaking distance\n",
    "\n",
    "stat_loc_df['coords']"
   ]
  },
  {
   "cell_type": "code",
   "execution_count": 22,
   "metadata": {
    "colab": {
     "base_uri": "https://localhost:8080/",
     "height": 669
    },
    "colab_type": "code",
    "id": "OnS3T_KQdMbw",
    "outputId": "2ee962b0-224a-4a9b-ce75-3bcd63c566d1"
   },
   "outputs": [
    {
     "data": {
      "text/html": [
       "<div>\n",
       "<style scoped>\n",
       "    .dataframe tbody tr th:only-of-type {\n",
       "        vertical-align: middle;\n",
       "    }\n",
       "\n",
       "    .dataframe tbody tr th {\n",
       "        vertical-align: top;\n",
       "    }\n",
       "\n",
       "    .dataframe thead th {\n",
       "        text-align: right;\n",
       "    }\n",
       "</style>\n",
       "<table border=\"1\" class=\"dataframe\">\n",
       "  <thead>\n",
       "    <tr style=\"text-align: right;\">\n",
       "      <th></th>\n",
       "      <th>NAME</th>\n",
       "      <th>lines</th>\n",
       "      <th>coords</th>\n",
       "    </tr>\n",
       "  </thead>\n",
       "  <tbody>\n",
       "    <tr>\n",
       "      <th>0</th>\n",
       "      <td>Astor Pl</td>\n",
       "      <td>4-6-6 Express</td>\n",
       "      <td>(40.73005400028978, -73.99106999861966)</td>\n",
       "    </tr>\n",
       "    <tr>\n",
       "      <th>1</th>\n",
       "      <td>Canal St</td>\n",
       "      <td>4-6-6 Express</td>\n",
       "      <td>(40.71880300107709, -74.00019299927328)</td>\n",
       "    </tr>\n",
       "    <tr>\n",
       "      <th>2</th>\n",
       "      <td>50th St</td>\n",
       "      <td>1-2</td>\n",
       "      <td>(40.76172799961419, -73.98384899986625)</td>\n",
       "    </tr>\n",
       "    <tr>\n",
       "      <th>3</th>\n",
       "      <td>Bergen St</td>\n",
       "      <td>2-3-4</td>\n",
       "      <td>(40.68086213682956, -73.97499915116808)</td>\n",
       "    </tr>\n",
       "    <tr>\n",
       "      <th>4</th>\n",
       "      <td>Pennsylvania Ave</td>\n",
       "      <td>3-4</td>\n",
       "      <td>(40.66471445143568, -73.89488591154061)</td>\n",
       "    </tr>\n",
       "    <tr>\n",
       "      <th>5</th>\n",
       "      <td>238th St</td>\n",
       "      <td>1</td>\n",
       "      <td>(40.88466700064975, -73.90087000018522)</td>\n",
       "    </tr>\n",
       "    <tr>\n",
       "      <th>6</th>\n",
       "      <td>Cathedral Pkwy (110th St)</td>\n",
       "      <td>A-B-C</td>\n",
       "      <td>(40.800581558114956, -73.95806670661364)</td>\n",
       "    </tr>\n",
       "    <tr>\n",
       "      <th>7</th>\n",
       "      <td>Kingston - Throop Aves</td>\n",
       "      <td>A-C</td>\n",
       "      <td>(40.67991899941601, -73.94085899871263)</td>\n",
       "    </tr>\n",
       "    <tr>\n",
       "      <th>8</th>\n",
       "      <td>65th St</td>\n",
       "      <td>E-M-R</td>\n",
       "      <td>(40.74971952935675, -73.8987883783301)</td>\n",
       "    </tr>\n",
       "    <tr>\n",
       "      <th>9</th>\n",
       "      <td>36th St</td>\n",
       "      <td>E-M-R</td>\n",
       "      <td>(40.75196004401078, -73.92901818461539)</td>\n",
       "    </tr>\n",
       "    <tr>\n",
       "      <th>10</th>\n",
       "      <td>Delancey St - Essex St</td>\n",
       "      <td>J-M-Z</td>\n",
       "      <td>(40.71830605618619, -73.98740940202974)</td>\n",
       "    </tr>\n",
       "    <tr>\n",
       "      <th>11</th>\n",
       "      <td>Van Siclen Ave</td>\n",
       "      <td>J-Z</td>\n",
       "      <td>(40.67802821447783, -73.89165772702445)</td>\n",
       "    </tr>\n",
       "    <tr>\n",
       "      <th>12</th>\n",
       "      <td>Norwood Ave</td>\n",
       "      <td>J-Z</td>\n",
       "      <td>(40.68152000045683, -73.87962599910783)</td>\n",
       "    </tr>\n",
       "    <tr>\n",
       "      <th>13</th>\n",
       "      <td>104th-102nd Sts</td>\n",
       "      <td>J-Z</td>\n",
       "      <td>(40.69516599823373, -73.84443500029684)</td>\n",
       "    </tr>\n",
       "    <tr>\n",
       "      <th>14</th>\n",
       "      <td>DeKalb Ave</td>\n",
       "      <td>B-D-N-Q-R</td>\n",
       "      <td>(40.690648119969794, -73.98177094440949)</td>\n",
       "    </tr>\n",
       "    <tr>\n",
       "      <th>15</th>\n",
       "      <td>Beach 105th St</td>\n",
       "      <td>A-S</td>\n",
       "      <td>(40.58326843810286, -73.82758075034528)</td>\n",
       "    </tr>\n",
       "    <tr>\n",
       "      <th>16</th>\n",
       "      <td>Beach 90th St</td>\n",
       "      <td>A-S</td>\n",
       "      <td>(40.58809156457325, -73.81365140419632)</td>\n",
       "    </tr>\n",
       "    <tr>\n",
       "      <th>17</th>\n",
       "      <td>Freeman St</td>\n",
       "      <td>2-5</td>\n",
       "      <td>(40.829987446384116, -73.89175225349464)</td>\n",
       "    </tr>\n",
       "    <tr>\n",
       "      <th>18</th>\n",
       "      <td>Intervale Ave</td>\n",
       "      <td>2-5</td>\n",
       "      <td>(40.822142131170786, -73.89661738461646)</td>\n",
       "    </tr>\n",
       "    <tr>\n",
       "      <th>19</th>\n",
       "      <td>182nd-183rd Sts</td>\n",
       "      <td>B-D</td>\n",
       "      <td>(40.85609299881864, -73.90074099998965)</td>\n",
       "    </tr>\n",
       "  </tbody>\n",
       "</table>\n",
       "</div>"
      ],
      "text/plain": [
       "                         NAME          lines  \\\n",
       "0                    Astor Pl  4-6-6 Express   \n",
       "1                    Canal St  4-6-6 Express   \n",
       "2                     50th St            1-2   \n",
       "3                   Bergen St          2-3-4   \n",
       "4            Pennsylvania Ave            3-4   \n",
       "5                    238th St              1   \n",
       "6   Cathedral Pkwy (110th St)          A-B-C   \n",
       "7      Kingston - Throop Aves            A-C   \n",
       "8                     65th St          E-M-R   \n",
       "9                     36th St          E-M-R   \n",
       "10     Delancey St - Essex St          J-M-Z   \n",
       "11             Van Siclen Ave            J-Z   \n",
       "12                Norwood Ave            J-Z   \n",
       "13            104th-102nd Sts            J-Z   \n",
       "14                 DeKalb Ave      B-D-N-Q-R   \n",
       "15             Beach 105th St            A-S   \n",
       "16              Beach 90th St            A-S   \n",
       "17                 Freeman St            2-5   \n",
       "18              Intervale Ave            2-5   \n",
       "19            182nd-183rd Sts            B-D   \n",
       "\n",
       "                                      coords  \n",
       "0    (40.73005400028978, -73.99106999861966)  \n",
       "1    (40.71880300107709, -74.00019299927328)  \n",
       "2    (40.76172799961419, -73.98384899986625)  \n",
       "3    (40.68086213682956, -73.97499915116808)  \n",
       "4    (40.66471445143568, -73.89488591154061)  \n",
       "5    (40.88466700064975, -73.90087000018522)  \n",
       "6   (40.800581558114956, -73.95806670661364)  \n",
       "7    (40.67991899941601, -73.94085899871263)  \n",
       "8     (40.74971952935675, -73.8987883783301)  \n",
       "9    (40.75196004401078, -73.92901818461539)  \n",
       "10   (40.71830605618619, -73.98740940202974)  \n",
       "11   (40.67802821447783, -73.89165772702445)  \n",
       "12   (40.68152000045683, -73.87962599910783)  \n",
       "13   (40.69516599823373, -73.84443500029684)  \n",
       "14  (40.690648119969794, -73.98177094440949)  \n",
       "15   (40.58326843810286, -73.82758075034528)  \n",
       "16   (40.58809156457325, -73.81365140419632)  \n",
       "17  (40.829987446384116, -73.89175225349464)  \n",
       "18  (40.822142131170786, -73.89661738461646)  \n",
       "19   (40.85609299881864, -73.90074099998965)  "
      ]
     },
     "execution_count": 22,
     "metadata": {},
     "output_type": "execute_result"
    }
   ],
   "source": [
    "stat_loc_df[0:20]"
   ]
  },
  {
   "cell_type": "code",
   "execution_count": 23,
   "metadata": {
    "colab": {
     "base_uri": "https://localhost:8080/",
     "height": 34
    },
    "colab_type": "code",
    "id": "G3G8gY8edmUo",
    "outputId": "dcab8546-f76a-4c92-9496-1478859e1c41"
   },
   "outputs": [
    {
     "data": {
      "text/plain": [
       "(40.73005400028978, -73.99106999861966)"
      ]
     },
     "execution_count": 23,
     "metadata": {},
     "output_type": "execute_result"
    }
   ],
   "source": [
    "stat_loc_df.iloc[0,2]"
   ]
  },
  {
   "cell_type": "code",
   "execution_count": 24,
   "metadata": {
    "colab": {
     "base_uri": "https://localhost:8080/",
     "height": 34
    },
    "colab_type": "code",
    "id": "zDR2GLX4en1b",
    "outputId": "01ebbc59-24a3-4eff-daf9-35491c226fa0"
   },
   "outputs": [
    {
     "data": {
      "text/plain": [
       "3.3877428119307282"
      ]
     },
     "execution_count": 24,
     "metadata": {},
     "output_type": "execute_result"
    }
   ],
   "source": [
    "distance.distance(stat_loc_df.iloc[0,2],hosp_loc_df.iloc[0,2]).miles"
   ]
  },
  {
   "cell_type": "code",
   "execution_count": 28,
   "metadata": {
    "colab": {},
    "colab_type": "code",
    "id": "jsiLS84kO0fO"
   },
   "outputs": [],
   "source": [
    "# code to try the .apply(...) method to create a series of distances\n",
    "\n",
    "def get_minimum_distance(location1, df, max_dist = 10):\n",
    "  \"\"\"Takes a coordinate tuple for location1, \n",
    "  a dataframe of coord tuples and location names,\n",
    "  and optionally a maximum distance.\n",
    "  Outputs a list containing the distance to and name of the closest location\n",
    "  in the series to location1.\"\"\"\n",
    "  dist = max_dist\n",
    "  coords = None\n",
    "  place = None\n",
    "  for i, location in enumerate(df['coords']):\n",
    "    mi_away = distance.distance(location1, location).miles\n",
    "    if mi_away < dist:\n",
    "      dist = mi_away\n",
    "      coords = location\n",
    "      place = df.iloc[i,0]\n",
    "  return [dist, place]"
   ]
  },
  {
   "cell_type": "code",
   "execution_count": 29,
   "metadata": {
    "colab": {
     "base_uri": "https://localhost:8080/",
     "height": 51
    },
    "colab_type": "code",
    "id": "YdWveEXWZPyM",
    "outputId": "9fce609a-78b1-4573-8275-a648c5e6eea6"
   },
   "outputs": [
    {
     "data": {
      "text/plain": [
       "'NEW YORK EYE AND EAR INFIRMARY'"
      ]
     },
     "execution_count": 29,
     "metadata": {},
     "output_type": "execute_result"
    }
   ],
   "source": [
    "test_list = get_minimum_distance(stat_loc_df.iloc[0,2], hosp_loc_df)\n",
    "test_list[1]"
   ]
  },
  {
   "cell_type": "code",
   "execution_count": 38,
   "metadata": {
    "colab": {
     "base_uri": "https://localhost:8080/",
     "height": 374
    },
    "colab_type": "code",
    "id": "Bp4N413Eqj74",
    "outputId": "72740a59-942c-4dfe-b9a1-9a719d41a5ce"
   },
   "outputs": [],
   "source": [
    "stat_hosp_df = pd.DataFrame(stat_loc_df['coords'].apply(get_minimum_distance,df=hosp_loc_df)\n",
    "                           .values.tolist(), columns=['hosp_dist','hosp_name'])"
   ]
  },
  {
   "cell_type": "code",
   "execution_count": 39,
   "metadata": {
    "colab": {
     "base_uri": "https://localhost:8080/",
     "height": 142
    },
    "colab_type": "code",
    "id": "4hcLRAVVtzU4",
    "outputId": "9b52cc84-1fe9-4df1-ec59-58d65edf9ea5"
   },
   "outputs": [
    {
     "data": {
      "text/html": [
       "<div>\n",
       "<style scoped>\n",
       "    .dataframe tbody tr th:only-of-type {\n",
       "        vertical-align: middle;\n",
       "    }\n",
       "\n",
       "    .dataframe tbody tr th {\n",
       "        vertical-align: top;\n",
       "    }\n",
       "\n",
       "    .dataframe thead th {\n",
       "        text-align: right;\n",
       "    }\n",
       "</style>\n",
       "<table border=\"1\" class=\"dataframe\">\n",
       "  <thead>\n",
       "    <tr style=\"text-align: right;\">\n",
       "      <th></th>\n",
       "      <th>hosp_dist</th>\n",
       "      <th>hosp_name</th>\n",
       "    </tr>\n",
       "  </thead>\n",
       "  <tbody>\n",
       "    <tr>\n",
       "      <th>0</th>\n",
       "      <td>0.367354</td>\n",
       "      <td>NEW YORK EYE AND EAR INFIRMARY</td>\n",
       "    </tr>\n",
       "    <tr>\n",
       "      <th>1</th>\n",
       "      <td>0.631470</td>\n",
       "      <td>NEW YORK-PRESBYTERIAN/LOWER MANHATTAN HOSPITAL</td>\n",
       "    </tr>\n",
       "    <tr>\n",
       "      <th>2</th>\n",
       "      <td>0.588702</td>\n",
       "      <td>MOUNT SINAI WEST</td>\n",
       "    </tr>\n",
       "  </tbody>\n",
       "</table>\n",
       "</div>"
      ],
      "text/plain": [
       "   hosp_dist                                       hosp_name\n",
       "0   0.367354                  NEW YORK EYE AND EAR INFIRMARY\n",
       "1   0.631470  NEW YORK-PRESBYTERIAN/LOWER MANHATTAN HOSPITAL\n",
       "2   0.588702                                MOUNT SINAI WEST"
      ]
     },
     "execution_count": 39,
     "metadata": {},
     "output_type": "execute_result"
    }
   ],
   "source": [
    "stat_hosp_df.head(3)"
   ]
  },
  {
   "cell_type": "code",
   "execution_count": 40,
   "metadata": {
    "colab": {
     "base_uri": "https://localhost:8080/",
     "height": 359
    },
    "colab_type": "code",
    "id": "NyNaY6msvPlF",
    "outputId": "e0ef7b29-4574-4e86-e510-49f51eee0413"
   },
   "outputs": [
    {
     "data": {
      "text/html": [
       "<div>\n",
       "<style scoped>\n",
       "    .dataframe tbody tr th:only-of-type {\n",
       "        vertical-align: middle;\n",
       "    }\n",
       "\n",
       "    .dataframe tbody tr th {\n",
       "        vertical-align: top;\n",
       "    }\n",
       "\n",
       "    .dataframe thead th {\n",
       "        text-align: right;\n",
       "    }\n",
       "</style>\n",
       "<table border=\"1\" class=\"dataframe\">\n",
       "  <thead>\n",
       "    <tr style=\"text-align: right;\">\n",
       "      <th></th>\n",
       "      <th>NAME</th>\n",
       "      <th>lines</th>\n",
       "      <th>coords</th>\n",
       "      <th>hosp_dist</th>\n",
       "      <th>hosp_name</th>\n",
       "    </tr>\n",
       "  </thead>\n",
       "  <tbody>\n",
       "    <tr>\n",
       "      <th>188</th>\n",
       "      <td>103rd St - Corona Plaza</td>\n",
       "      <td>7</td>\n",
       "      <td>(40.749865000555545, -73.86269999830412)</td>\n",
       "      <td>1.275217</td>\n",
       "      <td>ELMHURST HOSPITAL CENTER</td>\n",
       "    </tr>\n",
       "    <tr>\n",
       "      <th>59</th>\n",
       "      <td>42nd St - Bryant Pk</td>\n",
       "      <td>B-D-F-M</td>\n",
       "      <td>(40.754184001312545, -73.98459099904711)</td>\n",
       "      <td>1.007191</td>\n",
       "      <td>NYU HOSPITALS CENTER</td>\n",
       "    </tr>\n",
       "    <tr>\n",
       "      <th>15</th>\n",
       "      <td>Beach 105th St</td>\n",
       "      <td>A-S</td>\n",
       "      <td>(40.58326843810286, -73.82758075034528)</td>\n",
       "      <td>4.037159</td>\n",
       "      <td>ST. JOHN'S EPISCOPAL HOSPITAL-SOUTH SHORE</td>\n",
       "    </tr>\n",
       "    <tr>\n",
       "      <th>11</th>\n",
       "      <td>Van Siclen Ave</td>\n",
       "      <td>J-Z</td>\n",
       "      <td>(40.67802821447783, -73.89165772702445)</td>\n",
       "      <td>1.916232</td>\n",
       "      <td>BROOKDALE HOSPITAL MEDICAL CENTER</td>\n",
       "    </tr>\n",
       "    <tr>\n",
       "      <th>367</th>\n",
       "      <td>Jay St - MetroTech</td>\n",
       "      <td>A-C-F</td>\n",
       "      <td>(40.692470636847084, -73.98721815267317)</td>\n",
       "      <td>0.507456</td>\n",
       "      <td>BROOKLYN HOSPITAL CENTER</td>\n",
       "    </tr>\n",
       "    <tr>\n",
       "      <th>20</th>\n",
       "      <td>174th-175th Sts</td>\n",
       "      <td>B-D</td>\n",
       "      <td>(40.84589999983414, -73.91013600050078)</td>\n",
       "      <td>0.174365</td>\n",
       "      <td>BRONX-LEBANON HOSPITAL CENTER - CONCOURSE DIVI...</td>\n",
       "    </tr>\n",
       "    <tr>\n",
       "      <th>398</th>\n",
       "      <td>125th St</td>\n",
       "      <td>A-B-C-D</td>\n",
       "      <td>(40.811071672994565, -73.95224799734774)</td>\n",
       "      <td>0.648050</td>\n",
       "      <td>MOUNT SINAI ST. LUKE'S</td>\n",
       "    </tr>\n",
       "    <tr>\n",
       "      <th>44</th>\n",
       "      <td>Winthrop St</td>\n",
       "      <td>2-5</td>\n",
       "      <td>(40.65665931376077, -73.95007934590994)</td>\n",
       "      <td>0.283182</td>\n",
       "      <td>KINGS COUNTY HOSPITAL CENTER</td>\n",
       "    </tr>\n",
       "    <tr>\n",
       "      <th>182</th>\n",
       "      <td>Beach 98th St</td>\n",
       "      <td>A-S</td>\n",
       "      <td>(40.58538569133279, -73.82052058959523)</td>\n",
       "      <td>3.640599</td>\n",
       "      <td>ST. JOHN'S EPISCOPAL HOSPITAL-SOUTH SHORE</td>\n",
       "    </tr>\n",
       "    <tr>\n",
       "      <th>94</th>\n",
       "      <td>Hunters Point Ave</td>\n",
       "      <td>7-7 Express</td>\n",
       "      <td>(40.74221599986316, -73.9489160009391)</td>\n",
       "      <td>1.312811</td>\n",
       "      <td>NYU HOSPITALS CENTER</td>\n",
       "    </tr>\n",
       "  </tbody>\n",
       "</table>\n",
       "</div>"
      ],
      "text/plain": [
       "                        NAME        lines  \\\n",
       "188  103rd St - Corona Plaza            7   \n",
       "59       42nd St - Bryant Pk      B-D-F-M   \n",
       "15            Beach 105th St          A-S   \n",
       "11            Van Siclen Ave          J-Z   \n",
       "367       Jay St - MetroTech        A-C-F   \n",
       "20           174th-175th Sts          B-D   \n",
       "398                 125th St      A-B-C-D   \n",
       "44               Winthrop St          2-5   \n",
       "182            Beach 98th St          A-S   \n",
       "94         Hunters Point Ave  7-7 Express   \n",
       "\n",
       "                                       coords  hosp_dist  \\\n",
       "188  (40.749865000555545, -73.86269999830412)   1.275217   \n",
       "59   (40.754184001312545, -73.98459099904711)   1.007191   \n",
       "15    (40.58326843810286, -73.82758075034528)   4.037159   \n",
       "11    (40.67802821447783, -73.89165772702445)   1.916232   \n",
       "367  (40.692470636847084, -73.98721815267317)   0.507456   \n",
       "20    (40.84589999983414, -73.91013600050078)   0.174365   \n",
       "398  (40.811071672994565, -73.95224799734774)   0.648050   \n",
       "44    (40.65665931376077, -73.95007934590994)   0.283182   \n",
       "182   (40.58538569133279, -73.82052058959523)   3.640599   \n",
       "94     (40.74221599986316, -73.9489160009391)   1.312811   \n",
       "\n",
       "                                             hosp_name  \n",
       "188                           ELMHURST HOSPITAL CENTER  \n",
       "59                                NYU HOSPITALS CENTER  \n",
       "15           ST. JOHN'S EPISCOPAL HOSPITAL-SOUTH SHORE  \n",
       "11                   BROOKDALE HOSPITAL MEDICAL CENTER  \n",
       "367                           BROOKLYN HOSPITAL CENTER  \n",
       "20   BRONX-LEBANON HOSPITAL CENTER - CONCOURSE DIVI...  \n",
       "398                             MOUNT SINAI ST. LUKE'S  \n",
       "44                        KINGS COUNTY HOSPITAL CENTER  \n",
       "182          ST. JOHN'S EPISCOPAL HOSPITAL-SOUTH SHORE  \n",
       "94                                NYU HOSPITALS CENTER  "
      ]
     },
     "execution_count": 40,
     "metadata": {},
     "output_type": "execute_result"
    }
   ],
   "source": [
    "stat_hosp_full_df = pd.concat([stat_loc_df, stat_hosp_df], axis=1, sort=False)\n",
    "stat_hosp_full_df.sample(10)"
   ]
  },
  {
   "cell_type": "code",
   "execution_count": 41,
   "metadata": {
    "colab": {
     "base_uri": "https://localhost:8080/",
     "height": 142
    },
    "colab_type": "code",
    "id": "LMV9bJrM37eF",
    "outputId": "46793809-9374-4dd8-c883-8e5ed4e2135b"
   },
   "outputs": [
    {
     "data": {
      "text/html": [
       "<div>\n",
       "<style scoped>\n",
       "    .dataframe tbody tr th:only-of-type {\n",
       "        vertical-align: middle;\n",
       "    }\n",
       "\n",
       "    .dataframe tbody tr th {\n",
       "        vertical-align: top;\n",
       "    }\n",
       "\n",
       "    .dataframe thead th {\n",
       "        text-align: right;\n",
       "    }\n",
       "</style>\n",
       "<table border=\"1\" class=\"dataframe\">\n",
       "  <thead>\n",
       "    <tr style=\"text-align: right;\">\n",
       "      <th></th>\n",
       "      <th>Station Name</th>\n",
       "      <th>Lines</th>\n",
       "      <th>Lat / Long</th>\n",
       "      <th>Hospital Distance (mi)</th>\n",
       "      <th>Hospital ID</th>\n",
       "    </tr>\n",
       "  </thead>\n",
       "  <tbody>\n",
       "    <tr>\n",
       "      <th>470</th>\n",
       "      <td>72nd St</td>\n",
       "      <td>Q</td>\n",
       "      <td>(40.76880251014895, -73.95836178682246)</td>\n",
       "      <td>0.287176</td>\n",
       "      <td>GRACIE SQUARE HOSPITAL</td>\n",
       "    </tr>\n",
       "    <tr>\n",
       "      <th>471</th>\n",
       "      <td>86th St</td>\n",
       "      <td>Q</td>\n",
       "      <td>(40.77786104333163, -73.95177090964917)</td>\n",
       "      <td>0.557846</td>\n",
       "      <td>LENOX HILL HOSPITAL</td>\n",
       "    </tr>\n",
       "    <tr>\n",
       "      <th>472</th>\n",
       "      <td>96th St</td>\n",
       "      <td>Q</td>\n",
       "      <td>(40.784236650177654, -73.9470660219183)</td>\n",
       "      <td>0.141272</td>\n",
       "      <td>METROPOLITAN HOSPITAL CENTER</td>\n",
       "    </tr>\n",
       "  </tbody>\n",
       "</table>\n",
       "</div>"
      ],
      "text/plain": [
       "    Station Name Lines                               Lat / Long  \\\n",
       "470      72nd St     Q  (40.76880251014895, -73.95836178682246)   \n",
       "471      86th St     Q  (40.77786104333163, -73.95177090964917)   \n",
       "472      96th St     Q  (40.784236650177654, -73.9470660219183)   \n",
       "\n",
       "     Hospital Distance (mi)                   Hospital ID  \n",
       "470                0.287176        GRACIE SQUARE HOSPITAL  \n",
       "471                0.557846           LENOX HILL HOSPITAL  \n",
       "472                0.141272  METROPOLITAN HOSPITAL CENTER  "
      ]
     },
     "execution_count": 41,
     "metadata": {},
     "output_type": "execute_result"
    }
   ],
   "source": [
    "stat_hosp_full_df.columns = ['Station Name', 'Lines', 'Lat / Long', 'Hospital Distance (mi)', 'Hospital ID']\n",
    "stat_hosp_full_df.tail(3)"
   ]
  },
  {
   "cell_type": "code",
   "execution_count": 42,
   "metadata": {
    "colab": {},
    "colab_type": "code",
    "id": "q2zl0Gog4ioN"
   },
   "outputs": [],
   "source": [
    "stat_hosp_full_df.to_csv('station_hospital_distances.csv')"
   ]
  },
  {
   "cell_type": "code",
   "execution_count": null,
   "metadata": {},
   "outputs": [],
   "source": []
  }
 ],
 "metadata": {
  "colab": {
   "collapsed_sections": [],
   "name": "LocatorCode.ipynb",
   "provenance": []
  },
  "kernelspec": {
   "display_name": "Python 3",
   "language": "python",
   "name": "python3"
  },
  "language_info": {
   "codemirror_mode": {
    "name": "ipython",
    "version": 3
   },
   "file_extension": ".py",
   "mimetype": "text/x-python",
   "name": "python",
   "nbconvert_exporter": "python",
   "pygments_lexer": "ipython3",
   "version": "3.7.4"
  }
 },
 "nbformat": 4,
 "nbformat_minor": 1
}
